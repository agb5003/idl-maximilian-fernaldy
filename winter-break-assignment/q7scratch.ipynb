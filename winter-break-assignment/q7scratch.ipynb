{
 "cells": [
  {
   "cell_type": "code",
   "execution_count": 43,
   "metadata": {},
   "outputs": [
    {
     "name": "stdout",
     "output_type": "stream",
     "text": [
      "The largest integer that can be obtained is 992913\n"
     ]
    }
   ],
   "source": [
    "# My approach is to compare which combination of the integers\n",
    "# is bigger, while iterating and putting the integers in L\n",
    "# into S.\n",
    "\n",
    "L = []\n",
    "testCase = [83,8,837]\n",
    "testCase2 = [9,92,913]\n",
    "\n",
    "j = 0\n",
    "for i in testCase2:\n",
    "    L[j:j] = [str(i)]\n",
    "    j += 1\n",
    "\n",
    "S = []\n",
    "S += [L.pop(0)] # Fill the index #0 in S with the first element in L\n",
    "\n",
    "while L != []:\n",
    "    move = L.pop(0)\n",
    "    k = 0\n",
    "    toTheRight = True\n",
    "    while k in range(len(S)):\n",
    "        if int(move + S[k]) > int(S[k] + move):\n",
    "            break\n",
    "        k += 1\n",
    "    S[k:k] = [move]\n",
    "\n",
    "output = \"\"\n",
    "for n in S:\n",
    "  output += n\n",
    "\n",
    "print(\"The largest integer that can be obtained is \" + str(output))"
   ]
  }
 ],
 "metadata": {
  "kernelspec": {
   "display_name": "Python 3.10.9 64-bit (microsoft store)",
   "language": "python",
   "name": "python3"
  },
  "language_info": {
   "codemirror_mode": {
    "name": "ipython",
    "version": 3
   },
   "file_extension": ".py",
   "mimetype": "text/x-python",
   "name": "python",
   "nbconvert_exporter": "python",
   "pygments_lexer": "ipython3",
   "version": "3.10.9"
  },
  "orig_nbformat": 4,
  "vscode": {
   "interpreter": {
    "hash": "0a1711d0bf5b863f53104549f70b879233b46cc07d7206b040e92c4d761b405c"
   }
  }
 },
 "nbformat": 4,
 "nbformat_minor": 2
}
